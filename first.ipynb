import quandl
import pandas as pd
import numpy as np
import matplotlib.pyplot as plt

mydata = quandl.get("WIKI/AAPL")
df=pd.DataFrame(mydata)

#Added new column
df['new']=pd.Series(df.Open-df.High,index=df.index)
