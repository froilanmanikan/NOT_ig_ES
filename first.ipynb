import quandl
import pandas as pd
import numpy as np
import matplotlib.pyplot as plt

mydata = quandl.get("WIKI/FB")
df=pd.DataFrame(mydata)

#Added new column
# df['Diff']=pd.Series(df.High-df.Open,index=df.index)

def lower_wick_at_least_twice_real_body(rOpen,rLow,rClose):
    wick = rClose-rLow if rClose < rOpen else rOpen-rLow   
    return 1 if wick >= np.absolute(rClose,rOpen)/2 else 0


def closed_in_top_half_of_range(rHigh,rLow,rClose):
    return 1 if rClose > np.absolute(rHigh,rOpen)/2 else 0 

def is_hammer(rOpen,rLow,rClose,rHigh):
    return int(0)
#     return 1 if lower_wick_at_least_twice_real_body(rOpen,rLow,rClose) and closed_in_top_half_of_range(rHigh,rLow,rClose) else 0
    
df['IsHammer']=pd.Series(0.0)
df

plt.plot(df.Open,'r--',df.High,'g--')

plt.show()
plt.plot(df.Diff)

plt.show()
plt.plot(df.Volume)
plt.show()

t = np.arange(0., 5., 0.2)
plt.plot(t**12, 'r--')
plt.show()
